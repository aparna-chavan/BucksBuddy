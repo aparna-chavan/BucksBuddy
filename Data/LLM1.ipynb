{
 "cells": [
  {
   "cell_type": "code",
   "execution_count": 1,
   "id": "e0640623-c128-479d-b62d-22e0e51fd13e",
   "metadata": {
    "tags": []
   },
   "outputs": [],
   "source": [
    "from pandas_datareader import data as pdr\n",
    "import pandas as pd\n",
    "import snowflake.connector as snow\n",
    "from snowflake.connector.pandas_tools import write_pandas\n",
    "from ipynb.fs.full.Keys import get_snowflake_conn\n",
    "from ipynb.fs.full.Keys import get_openai_api_key\n",
    "from openai import OpenAI"
   ]
  },
  {
   "cell_type": "code",
   "execution_count": 2,
   "id": "b195fb38-3e33-4956-bca0-cfec5989e801",
   "metadata": {
    "tags": []
   },
   "outputs": [],
   "source": [
    "def get_openai_api_key():\n",
    "    key = ''\n",
    "    return key"
   ]
  },
  {
   "cell_type": "code",
   "execution_count": 3,
   "id": "5d6833a1-3af4-4f81-bdf4-90fd351d2e12",
   "metadata": {
    "tags": []
   },
   "outputs": [],
   "source": [
    "def get_snowflake_conn():\n",
    "    conn = snow.connect(\n",
    "    user=\"\",\n",
    "    password=\"\",\n",
    "    account=\"\",\n",
    "    warehouse=\"\",\n",
    "    database=\"\",\n",
    "    schema=\"\")\n",
    "    return conn\n",
    "\n",
    "def get_snowflake_conn1():\n",
    "    conn = snow.connect(\n",
    "    user=\"\",\n",
    "    password=\"\",\n",
    "    account=\"\",\n",
    "    warehouse=\"\",\n",
    "    database=\"\",\n",
    "    schema=\"\")\n",
    "    return conn"
   ]
  },
  {
   "cell_type": "code",
   "execution_count": 4,
   "id": "8bc969c3-c7d3-4c85-a9e8-49230372f12f",
   "metadata": {
    "tags": []
   },
   "outputs": [],
   "source": [
    "# Function to generate predictions using the model and feed to ChatGPT\n",
    "def generate_predictions_and_response(prompt,client):\n",
    "    completion = client.chat.completions.create(\n",
    "    model=\"gpt-3.5-turbo\",\n",
    "    messages=[{\"role\": \"user\", \"content\": prompt}])\n",
    "\n",
    "    return completion.choices[0].message.content"
   ]
  },
  {
   "cell_type": "code",
   "execution_count": 5,
   "id": "191c66dd-e520-4824-aa77-0684e8df0718",
   "metadata": {
    "tags": []
   },
   "outputs": [],
   "source": [
    "conn = get_snowflake_conn()\n",
    "cur = conn.cursor()\n",
    "conn1 = get_snowflake_conn1()\n",
    "cur1 = conn1.cursor()\n",
    "client = OpenAI(api_key=get_openai_api_key())"
   ]
  },
  {
   "cell_type": "code",
   "execution_count": 6,
   "id": "bc7b64ec-182d-4714-ae25-ec01d4e391ed",
   "metadata": {
    "tags": []
   },
   "outputs": [],
   "source": [
    "sql = 'select * from \"company_info\"'\n",
    "cur.execute(sql)\n",
    "df = cur.fetch_pandas_all()\n",
    "\n",
    "sql = 'select * from \"TWITTER\"'\n",
    "cur.execute(sql)\n",
    "df1 = cur.fetch_pandas_all()\n",
    "\n",
    "sql = 'select * from \"pred_data\"'\n",
    "cur.execute(sql)\n",
    "df2 = cur.fetch_pandas_all()\n",
    "\n",
    "sql = 'select * from \"COMBINED_DATA\"'\n",
    "cur1.execute(sql)\n",
    "df3 = cur1.fetch_pandas_all()"
   ]
  },
  {
   "cell_type": "code",
   "execution_count": 7,
   "id": "4d4f1960-ea30-41cc-835a-86d7abbeb936",
   "metadata": {
    "tags": []
   },
   "outputs": [],
   "source": [
    "stocks = [\"Apple\", \"Microsoft\", \"Adobe\", \"Airbnb\", \"Doordash\", \"Boeing\", \"Tesla\", \"Google\", \"Meta\", \"Nvidia\", \"Pfizer\", \"Moderna\", \"John Deere\", \"FedEx\", \"DHL\", \"Disney\", \"Netflix\", \"PepsiCo\", \"Nestle\", \"Lockheed Martin\"]\n",
    "ticker = [\"AAPL\", \"MSFT\", \"ADBE\", \"ABNB\", \"DASH\", \"BA\", \"TSLA\", \"GOOG\", \"META\", \"NVDA\", \"PFE\", \"MRNA\", \"DE\", \"FDX\", \"DHLGY\", \"DIS\", \"NFLX\", \"PEP\", \"NSRGY\", \"LMT\"]"
   ]
  },
  {
   "cell_type": "code",
   "execution_count": 8,
   "id": "5ffc730b-144b-4cee-8ba3-94b3675fef10",
   "metadata": {
    "tags": []
   },
   "outputs": [],
   "source": [
    "result = pd.DataFrame(columns=['ticker', 'company_name', 'fin_context', 'twitter_context', 'pred_context', 'reddit_context'])\n",
    "\n",
    "for i in range(0,len(stocks)):\n",
    "    prompt = f\"You are a financial assistant. For the given data : {df} , provide an in-depth and holistic Financial analysis for {stocks[i]}.\"\n",
    "    prediction_response1 = generate_predictions_and_response(prompt, client)\n",
    "    \n",
    "    prompt = f\"Based on all the given Tweets : {df1}, provide a holistic sentiment analysis for the company {stocks[i]}.\"\n",
    "    prediction_response2 = generate_predictions_and_response(prompt, client)\n",
    "    \n",
    "    prompt = f\"You are a financial assistant. Following data consists 3 years of stock data for companies and respective ticker is assigned to a row and the last 3 rows for each ticker are the stock prices predicted for next 3 days :{df2}.  Fot the company {stocks[i]}, provide an in-depth and holistic analysis and trends for the stock data and predicted data.\"\n",
    "    prediction_response3 = generate_predictions_and_response(prompt, client)\n",
    "    \n",
    "    prompt = f\"Based on all the given Reddit posts : {df1}, provide a holistic sentiment analysis for the company {stocks[i]}.\"\n",
    "    prediction_response4 = generate_predictions_and_response(prompt, client)\n",
    "    \n",
    "    result.loc[i] = [ticker[i], stocks[i], prediction_response1, prediction_response2, prediction_response3, prediction_response4]\n",
    "#    print([ticker[i], prediction_response1, prediction_response2, prediction_response3, prediction_response4])"
   ]
  },
  {
   "cell_type": "code",
   "execution_count": 9,
   "id": "0bc1f7a8-715f-4270-9925-de37c8a276b5",
   "metadata": {
    "tags": []
   },
   "outputs": [
    {
     "name": "stderr",
     "output_type": "stream",
     "text": [
      "/var/folders/ry/bymcj58x25v17j_pspl405qm0000gn/T/ipykernel_14886/2609554103.py:3: UserWarning: Pandas Dataframe has non-standard index of type <class 'pandas.core.indexes.base.Index'> which will not be written. Consider changing the index to pd.RangeIndex(start=0,...,step=1) or call reset_index() to keep index as column(s)\n",
      "  write_pandas(conn, result, \"context_data\", auto_create_table=True)\n"
     ]
    },
    {
     "data": {
      "text/plain": [
       "(True,\n",
       " 1,\n",
       " 20,\n",
       " [('qldotjgati/file0.txt', 'LOADED', 20, 20, 1, 0, None, None, None, None)])"
      ]
     },
     "execution_count": 9,
     "metadata": {},
     "output_type": "execute_result"
    }
   ],
   "source": [
    "sql = 'drop table BUCKSBUDDY.FINANCE.\"context_data\"'\n",
    "cur.execute(sql)\n",
    "write_pandas(conn, result, \"context_data\", auto_create_table=True)"
   ]
  },
  {
   "cell_type": "code",
   "execution_count": null,
   "id": "ec5fba37-160d-4b3c-8373-5cfdb6b03ed0",
   "metadata": {},
   "outputs": [],
   "source": []
  }
 ],
 "metadata": {
  "kernelspec": {
   "display_name": "Python 3 (ipykernel)",
   "language": "python",
   "name": "python3"
  },
  "language_info": {
   "codemirror_mode": {
    "name": "ipython",
    "version": 3
   },
   "file_extension": ".py",
   "mimetype": "text/x-python",
   "name": "python",
   "nbconvert_exporter": "python",
   "pygments_lexer": "ipython3",
   "version": "3.11.5"
  }
 },
 "nbformat": 4,
 "nbformat_minor": 5
}
